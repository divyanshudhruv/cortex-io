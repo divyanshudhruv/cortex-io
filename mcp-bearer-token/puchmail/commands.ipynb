{
 "cells": [
  {
   "cell_type": "code",
   "execution_count": null,
   "id": "c498d7df",
   "metadata": {
    "vscode": {
     "languageId": "plaintext"
    }
   },
   "outputs": [],
   "source": [
    "/generate-auth-url --message \"give full url link\" --puchmail"
   ]
  },
  {
   "cell_type": "code",
   "execution_count": null,
   "id": "bc5154ac",
   "metadata": {
    "vscode": {
     "languageId": "plaintext"
    }
   },
   "outputs": [],
   "source": [
    "/connect \"<your_email>\" \"<your_copied_auth_code>\""
   ]
  },
  {
   "cell_type": "code",
   "execution_count": null,
   "id": "e4879cad",
   "metadata": {
    "vscode": {
     "languageId": "plaintext"
    }
   },
   "outputs": [],
   "source": [
    "/save \"<message>\" as \"<name>\" --memory --puchkeep"
   ]
  },
  {
   "cell_type": "markdown",
   "id": "3b5ff411",
   "metadata": {},
   "source": [
    "**Default URL for signup**: `https://accounts.google.com/o/oauth2/auth?client_id=731651550051-scqg8t4d8sa0afcjkm7arvlfp5uaoepn.apps.googleusercontent.com&redirect_uri=https://developers.google.com/oauthplayground&response_type=code&scope=https://www.googleapis.com/auth/gmail.send&access_type=offline&prompt=consent`\n",
    "\n",
    "> Use this url to login with your Google account and get the authorization code. \n",
    "\n",
    "_this is not a clickbait, I promise._"
   ]
  }
 ],
 "metadata": {
  "language_info": {
   "name": "python"
  }
 },
 "nbformat": 4,
 "nbformat_minor": 5
}
