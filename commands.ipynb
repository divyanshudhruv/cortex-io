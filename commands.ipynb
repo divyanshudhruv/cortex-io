{
 "cells": [
  {
   "cell_type": "markdown",
   "id": "fba258f5",
   "metadata": {},
   "source": [
    "/show commands --help --puchkeep"
   ]
  },
  {
   "cell_type": "code",
   "execution_count": null,
   "id": "c498d7df",
   "metadata": {
    "vscode": {
     "languageId": "plaintext"
    }
   },
   "outputs": [],
   "source": [
    "/signup \"<username>\" \"<password>\" --puchkeep"
   ]
  },
  {
   "cell_type": "code",
   "execution_count": null,
   "id": "bc5154ac",
   "metadata": {
    "vscode": {
     "languageId": "plaintext"
    }
   },
   "outputs": [],
   "source": [
    "/login \"<username>\" \"<password>\" --puchkeep"
   ]
  },
  {
   "cell_type": "code",
   "execution_count": null,
   "id": "e4879cad",
   "metadata": {
    "vscode": {
     "languageId": "plaintext"
    }
   },
   "outputs": [],
   "source": [
    "/save \"<message>\" as \"<name>\" --memory --puchkeep"
   ]
  },
  {
   "cell_type": "code",
   "execution_count": null,
   "id": "b4c6b238",
   "metadata": {
    "vscode": {
     "languageId": "plaintext"
    }
   },
   "outputs": [],
   "source": [
    "/show --all --memories --puchkeep"
   ]
  },
  {
   "cell_type": "code",
   "execution_count": null,
   "id": "57871b0b",
   "metadata": {
    "vscode": {
     "languageId": "plaintext"
    }
   },
   "outputs": [],
   "source": [
    "/show \"<name>\" --memories --puchkeep --force \"return original\""
   ]
  },
  {
   "cell_type": "code",
   "execution_count": null,
   "id": "5d69b6dc",
   "metadata": {
    "vscode": {
     "languageId": "plaintext"
    }
   },
   "outputs": [],
   "source": [
    "/rename \"<old_name>\" to \"<new_name>\" --memories --puchkeep"
   ]
  },
  {
   "cell_type": "code",
   "execution_count": null,
   "id": "0661e20a",
   "metadata": {
    "vscode": {
     "languageId": "plaintext"
    }
   },
   "outputs": [],
   "source": [
    "/use \"<name_1>\" \"<name_2>\" .... <message_request> --memories --puchkeep "
   ]
  }
 ],
 "metadata": {
  "language_info": {
   "name": "python"
  }
 },
 "nbformat": 4,
 "nbformat_minor": 5
}
