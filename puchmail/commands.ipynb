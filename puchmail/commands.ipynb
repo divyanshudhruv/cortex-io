{
 "cells": [
  {
   "cell_type": "code",
   "execution_count": null,
   "id": "c498d7df",
   "metadata": {
    "vscode": {
     "languageId": "plaintext"
    }
   },
   "outputs": [],
   "source": [
    "# PuchMail Commands Reference\n",
    "\n",
    "Below are the main commands you can use with the PuchMail MCP server:\n",
    "\n",
    "\n",
    "- **/generate-gmail-auth-url** — Get the Google authorization URL to link your Gmail (send & read scope)\n",
    "- **/complete-gmail-signup <email> <auth_code>** — Complete Gmail linking and log in\n",
    "- **/login-mail <email>** — Log into your PuchMail session with a linked email\n",
    "- **/logout-mail** — Log out from your current PuchMail session\n",
    "- **/send-mail <to> subject: <subject> body: <body>** — Send an email from the logged-in account\n",
    "- **/get-current-mail-account-info** — View details of your currently logged-in email account\n",
    "- **/rename-mail-account-email <old_email> <new_email>** — Correct an email address for a linked account\n",
    "- **/view-top-emails <num_emails>** — View the subject and sender of your most recent emails (max 10, Gmail only)\n",
    "- **/help-menu** — Show this help menu\n",
    "\n",
    "\n",
    "**Example usage:**\n",
    "\n",
    "```plaintext\n",
    "/generate-gmail-auth-url\n",
    "/complete-gmail-signup \"your@email.com\" \"<auth_code>\"\n",
    "/login-mail \"your@email.com\"\n",
    "/send-mail \"recipient@email.com\" subject: \"Hello\" body: \"This is a test.\"\n",
    "/view-top-emails 5\n",
    "/logout-mail\n",
    "/help-menu\n",
    "```\n",
    "\n",
    "\n",
    "> For Google OAuth, use the generated link, authorize, and copy the code from the redirect URL.\n"
   ]
  },
  {
   "cell_type": "code",
   "execution_count": null,
   "id": "bc5154ac",
   "metadata": {
    "vscode": {
     "languageId": "plaintext"
    }
   },
   "outputs": [],
   "source": [
    "/connect \"<your_email>\" \"<your_copied_auth_code>\""
   ]
  },
  {
   "cell_type": "code",
   "execution_count": null,
   "id": "e4879cad",
   "metadata": {
    "vscode": {
     "languageId": "plaintext"
    }
   },
   "outputs": [],
   "source": [
    "/send-mail \"<mail_id>\" subject: \"<subject>\" body: \"<body>\""
   ]
  },
  {
   "cell_type": "markdown",
   "id": "3b5ff411",
   "metadata": {},
   "source": [
    "**Default URL for signup**: `https://accounts.google.com/o/oauth2/auth?client_id=731651550051-scqg8t4d8sa0afcjkm7arvlfp5uaoepn.apps.googleusercontent.com&redirect_uri=https%3A%2F%2Fdevelopers.google.com%2Foauthplayground&response_type=code&scope=https%3A%2F%2Fwww.googleapis.com%2Fauth%2Fgmail.send%20https%3A%2F%2Fwww.googleapis.com%2Fauth%2Fgmail.readonly&access_type=offline&prompt=consent&service=lso&o2v=1&flowName=GeneralOAuthFlow`\n",
    "\n",
    "> Use this url to login with your Google account and get the authorization code. \n",
    "\n",
    "_this is not a clickbait, I promise._"
   ]
  },
  {
   "cell_type": "markdown",
   "id": "8156e8c1",
   "metadata": {},
   "source": []
  }
 ],
 "metadata": {
  "language_info": {
   "name": "python"
  }
 },
 "nbformat": 4,
 "nbformat_minor": 5
}
